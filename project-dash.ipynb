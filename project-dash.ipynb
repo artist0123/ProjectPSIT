{
 "metadata": {
  "language_info": {
   "codemirror_mode": {
    "name": "ipython",
    "version": 3
   },
   "file_extension": ".py",
   "mimetype": "text/x-python",
   "name": "python",
   "nbconvert_exporter": "python",
   "pygments_lexer": "ipython3",
   "version": "3.8.3-final"
  },
  "orig_nbformat": 2,
  "kernelspec": {
   "name": "python3",
   "display_name": "Python 3",
   "language": "python"
  }
 },
 "nbformat": 4,
 "nbformat_minor": 2,
 "cells": [
  {
   "cell_type": "code",
   "execution_count": null,
   "metadata": {},
   "outputs": [],
   "source": [
    "import sys \n",
    "!{sys.executable} -m pip install plotly #ติดตั้งไลบรารี่ plotly\n",
    "!{sys.executable} -m pip install jupyter_dash #ติดตั้งไลบรารี่ jupyter_dash\n",
    "!{sys.executable} -m pip install pandas #ติดตั้งไลบรารี่ pandas\n",
    "!{sys.executable} -m pip install dash #ติดตั้งไลบรารี่ dash\n",
    "!{sys.executable} -m pip install dash-bootstrap-components #ติดตั้งไลบรารี่ dash-bootstrap-components"
   ]
  },
  {
   "cell_type": "code",
   "execution_count": 45,
   "metadata": {},
   "outputs": [],
   "source": [
    "import plotly.express as px\n",
    "import plotly.graph_objects as go\n",
    "\n",
    "from jupyter_dash import JupyterDash\n",
    "import dash_core_components as dcc\n",
    "import dash_html_components as html\n",
    "from dash.dependencies import Input, Output\n",
    "import dash_bootstrap_components as dbc\n",
    "\n",
    "import pandas as pd\n",
    "import numpy as np"
   ]
  },
  {
   "cell_type": "code",
   "execution_count": 46,
   "metadata": {},
   "outputs": [],
   "source": [
    "df = pd.read_csv('https://raw.githubusercontent.com/artist0123/ProjectPSIT/main/master.csv', engine = 'python', sep = ',')\n",
    "code_df = pd.read_csv('https://raw.githubusercontent.com/plotly/datasets/master/2014_world_gdp_with_codes.csv')"
   ]
  },
  {
   "cell_type": "code",
   "execution_count": 47,
   "metadata": {},
   "outputs": [],
   "source": [
    "df_country = df.groupby(['Country', 'year']).sum().reset_index()\n",
    "df_country.replace(0, 1, inplace=True)"
   ]
  },
  {
   "cell_type": "code",
   "execution_count": 48,
   "metadata": {},
   "outputs": [],
   "source": [
    "df_country_code = df_country.merge(code_df, left_on='Country', right_on='COUNTRY', how='left')\n",
    "df_year = df.groupby('year').sum()\n",
    "df_chocolate = df.groupby(['sex', 'age'], as_index=False).sum()\n",
    "\n",
    "df_suicideno = df.groupby('Country', as_index=False).sum()\n",
    "df_age = df.groupby('age', as_index=False).sum()\n"
   ]
  },
  {
   "cell_type": "code",
   "execution_count": 49,
   "metadata": {},
   "outputs": [
    {
     "output_type": "execute_result",
     "data": {
      "text/plain": [
       "Country               Russian Federation\n",
       "year                              648648\n",
       "suicides_no                      1209742\n",
       "population                    3690802620\n",
       "suicides/100k pop                11305.1\n",
       "HDI for year                           0\n",
       "gdp_per_capita ($)               2112096\n",
       "Name: 75, dtype: object"
      ]
     },
     "metadata": {},
     "execution_count": 49
    }
   ],
   "source": [
    "df_suicideno.loc[df_suicideno['suicides_no'].idxmax()] #หาประเทศที่มีจำนวน suicides_no มากที่สุด"
   ]
  },
  {
   "cell_type": "code",
   "execution_count": 50,
   "metadata": {},
   "outputs": [
    {
     "output_type": "execute_result",
     "data": {
      "text/plain": [
       "age                   35-54 years\n",
       "year                      9289920\n",
       "suicides_no               2452141\n",
       "population            14375888123\n",
       "suicides/100k pop           69386\n",
       "HDI for year              1082.58\n",
       "gdp_per_capita ($)       78341054\n",
       "Name: 2, dtype: object"
      ]
     },
     "metadata": {},
     "execution_count": 50
    }
   ],
   "source": [
    "df_age.loc[df_age['suicides_no'].idxmax()] #หาช่วงอายุที่มีจำนวน suicides_no มากที่สุด"
   ]
  },
  {
   "cell_type": "code",
   "execution_count": 51,
   "metadata": {},
   "outputs": [
    {
     "output_type": "execute_result",
     "data": {
      "text/plain": [
       "     Country    year  suicides_no  population  suicides/100k pop  \\\n",
       "91  Thailand  668508       110643  1584800281            2362.67   \n",
       "\n",
       "    HDI for year  gdp_per_capita ($)  \n",
       "91         79.98             1193102  "
      ],
      "text/html": "<div>\n<style scoped>\n    .dataframe tbody tr th:only-of-type {\n        vertical-align: middle;\n    }\n\n    .dataframe tbody tr th {\n        vertical-align: top;\n    }\n\n    .dataframe thead th {\n        text-align: right;\n    }\n</style>\n<table border=\"1\" class=\"dataframe\">\n  <thead>\n    <tr style=\"text-align: right;\">\n      <th></th>\n      <th>Country</th>\n      <th>year</th>\n      <th>suicides_no</th>\n      <th>population</th>\n      <th>suicides/100k pop</th>\n      <th>HDI for year</th>\n      <th>gdp_per_capita ($)</th>\n    </tr>\n  </thead>\n  <tbody>\n    <tr>\n      <th>91</th>\n      <td>Thailand</td>\n      <td>668508</td>\n      <td>110643</td>\n      <td>1584800281</td>\n      <td>2362.67</td>\n      <td>79.98</td>\n      <td>1193102</td>\n    </tr>\n  </tbody>\n</table>\n</div>"
     },
     "metadata": {},
     "execution_count": 51
    }
   ],
   "source": [
    "df_suicideno.loc[df_suicideno['Country']=='Thailand'] #หาข้อมูลของประเทศไทย"
   ]
  },
  {
   "cell_type": "code",
   "execution_count": 52,
   "metadata": {},
   "outputs": [],
   "source": [
    " # Build App\n",
    "YEARS = [x for x in range(1985, 2017)]\n",
    "app = JupyterDash(__name__, external_stylesheets=[dbc.themes.BOOTSTRAP])\n",
    "\n",
    "card1 = [dbc.CardHeader(children=[\n",
    "                dcc.Graph(id='world-choropleth'),\n",
    "                        ]),#CardHeader\n",
    "                        dbc.CardBody(children=[\n",
    "                            dcc.Slider(\n",
    "                            id='year-slider',\n",
    "                            min=min(YEARS),\n",
    "                            max=max(YEARS),\n",
    "                            value=min(YEARS),\n",
    "                            marks={i:\"%d\" % i for i in YEARS},\n",
    "                            ),\n",
    "                            html.P(\n",
    "                                \"แนวโน้มในกราฟนี้จะแสดงถึงการฆ่าตัวตายทั่วโลกในแต่ละปีซึ่งประเทศสหพันธรัฐรัสเซียได้มีการค่าตัวตายมากที่สุด\", #ข้อความใน card\n",
    "                                className=\"card-text\",\n",
    "                            ),\n",
    "                            html.P(\n",
    "                                \"ซึ่งกราฟมีแนวโน้มเพิ่มขึ้นจากปี1985เรื่อยและคงที่\", #ข้อความใน card\n",
    "                                className=\"card-text\",\n",
    "                            )\n",
    "                        ]),#CardBody\n",
    "                    ]\n",
    "\n",
    "card2 = [dbc.CardHeader(children=[\n",
    "            dcc.Graph(id='everest-graph'),\n",
    "            ]),#CardHeader\n",
    "            dbc.CardBody([\n",
    "                html.P(\n",
    "                    \"แนวโน้มในกราฟนี้จะแสดงถึงการฆ่าตัวตายว่าช่วงอายุระหว่าง35ปีถึง54ปีได้มีการค่าตัวตายมากที่สุด\", #ข้อความใน card\n",
    "                    className=\"card-text\",\n",
    "                ),\n",
    "                html.P(\n",
    "                    \"ซึ่งกราฟมีแนวโน้มเพิ่มขึ้นจากปี1985เรื่อยและคงที่\", #ข้อความใน card\n",
    "                    className=\"card-text\",\n",
    "                )\n",
    "            ])\n",
    "        ]\n",
    "\n",
    "card3 = [dbc.CardHeader(children=[\n",
    "                dcc.Graph(id='chocolatebar-graph'),\n",
    "                        ]),#CardHeader\n",
    "                dbc.CardBody([\n",
    "                html.H5(\"Card title\", className=\"card-title\"), #หัวข้อใน card\n",
    "                html.P(\n",
    "                    \"This is some card content that we'll reuse\", #ข้อความใน card\n",
    "                    className=\"card-text\",\n",
    "                )\n",
    "            ])\n",
    "        ]\n",
    "\n",
    "mostdead = [\n",
    "    dbc.Col(children=[\n",
    "        html.H6(\"ประเทศที่มีการฆ่าตัวตายเยอะที่สุด\"),\n",
    "        html.H3(\"สหพันธรัฐรัสเซีย\"),\n",
    "        html.H2(\"{:,} คน\".format(1209742))\n",
    "    ])\n",
    "]\n",
    "\n",
    "agedead = [\n",
    "    dbc.Col(children=[\n",
    "        html.H6(\"ช่วงอายุที่มีการฆ่าตัวตายเยอะที่สุด\"),\n",
    "        html.H3(\"35-54 ปี\"),\n",
    "        html.H2(\"{:,} คน\".format(2452141))\n",
    "    ])\n",
    "]\n",
    "\n",
    "thaidead = [\n",
    "    dbc.Col(children=[\n",
    "        html.H6(\"ประเทศไทยมีการฆ่าตัวตาย\"),\n",
    "        html.H2(\"{:,} คน\".format(110643))\n",
    "    ])\n",
    "]\n",
    "\n",
    "app.layout = html.Div(children=[\n",
    "            html.Div(\n",
    "                id=\"header\",\n",
    "                className='jumbotron',\n",
    "                children=[\n",
    "                    html.H1(children=\"Data Visualization Dashboard\"),\n",
    "                    html.H3(\"แดชบอร์ดแสดงข้อมูลการฆ่าตัวตายของทั่วโลกตั้งแต่ปี 1987-2016\"),\n",
    "                    \"เยี่ยมชม GitHub ของพวกเรา \",\n",
    "                    dcc.Link(\n",
    "                        href=\"https://github.com/artist0123/ProjectPSIT\",\n",
    "                        children=[\"กดที่นี่\"],\n",
    "                        )\n",
    "                ]),#DivHeader\n",
    "            dbc.Container(fluid=False,\n",
    "            children=[#Container\n",
    "                dbc.Row([#Row1\n",
    "                    dbc.Col(mostdead),\n",
    "                    dbc.Col(agedead),\n",
    "                    dbc.Col(thaidead),\n",
    "                ]),#Row1\n",
    "                dbc.Row([#Row2\n",
    "                    dbc.Col([#Col1\n",
    "                        dbc.Card(card1, outline=True),\n",
    "                        html.Br(),\n",
    "                        dbc.Card(card2, outline=True),\n",
    "                        html.Br(),\n",
    "                        dbc.Card(card3, outline=True),\n",
    "                    ])#Col1\n",
    "            ])#Row2\n",
    "        ]),#Container\n",
    "    ])#Div1"
   ]
  },
  {
   "cell_type": "code",
   "execution_count": 53,
   "metadata": {},
   "outputs": [],
   "source": [
    "# Define callback to update graph\n",
    "@app.callback(\n",
    "    Output(component_id='world-choropleth', component_property='figure'),\n",
    "    Output(component_id='everest-graph', component_property='figure'),\n",
    "    Output(component_id='chocolatebar-graph', component_property='figure'),\n",
    "    Input(component_id='year-slider', component_property='value')\n",
    ")\n",
    "def update_figure(year):\n",
    "    df_choropleth = df_country_code.query('year=='+str(year))\n",
    "    world_suicide = go.Figure(data=go.Choropleth(\n",
    "    locations = df_choropleth['CODE'],\n",
    "    z = df_choropleth['suicides_no'],\n",
    "    text = df_choropleth['Country'],\n",
    "    colorscale = 'Oryel',\n",
    "    autocolorscale=False,\n",
    "    reversescale=False,\n",
    "    marker_line_color='darkgray',\n",
    "    marker_line_width=0.2,\n",
    "    colorbar_title = 'Suicide Cases',\n",
    "    ))\n",
    "\n",
    "    world_suicide.update_layout(\n",
    "    autosize=True,\n",
    "    title_text='สถิติการฆ่าตัวตายของทั่วโลกในปี ' + str(year),\n",
    "    geo=dict(\n",
    "        showframe=False,\n",
    "        showcoastlines=False,\n",
    "        projection_type='equirectangular'\n",
    "        )\n",
    "    )\n",
    "    everest_graph = px.line(df_year, x=df_year.index, y=\"suicides_no\", title='สถิติการฆ่าตัวตายตั้งแต่ปี 1985 - 2016')\n",
    "\n",
    "    chocolatebar_graph = px.bar(df_chocolate, x='sex', y=\"suicides_no\", color='age', barmode='group', title='สถิติการฆ่าตัวตายโดยจำแนกเพศและช่วงอายุในปี 1985 - 2016')\n",
    "\n",
    "    return world_suicide, everest_graph, chocolatebar_graph"
   ]
  },
  {
   "cell_type": "code",
   "execution_count": 54,
   "metadata": {},
   "outputs": [
    {
     "output_type": "stream",
     "name": "stdout",
     "text": [
      "Dash app running on http://127.0.0.1:8050/\n"
     ]
    }
   ],
   "source": [
    "# Run app and display result inline in the notebook\n",
    "app.run_server(mode='external')"
   ]
  }
 ]
}