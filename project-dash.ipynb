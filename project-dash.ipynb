{
 "metadata": {
  "language_info": {
   "codemirror_mode": {
    "name": "ipython",
    "version": 3
   },
   "file_extension": ".py",
   "mimetype": "text/x-python",
   "name": "python",
   "nbconvert_exporter": "python",
   "pygments_lexer": "ipython3",
   "version": "3.8.3-final"
  },
  "orig_nbformat": 2,
  "kernelspec": {
   "name": "python3",
   "display_name": "Python 3",
   "language": "python"
  }
 },
 "nbformat": 4,
 "nbformat_minor": 2,
 "cells": [
  {
   "cell_type": "code",
   "execution_count": 8,
   "metadata": {},
   "outputs": [],
   "source": [
    "import plotly.express as px\n",
    "import plotly.graph_objects as go\n",
    "\n",
    "from jupyter_dash import JupyterDash\n",
    "import dash_core_components as dcc\n",
    "import dash_html_components as html\n",
    "from dash.dependencies import Input, Output\n",
    "import dash_bootstrap_components as dbc\n",
    "\n",
    "import pandas as pd\n",
    "import numpy as np"
   ]
  },
  {
   "cell_type": "code",
   "execution_count": 9,
   "metadata": {},
   "outputs": [],
   "source": [
    "df = pd.read_csv('https://raw.githubusercontent.com/artist0123/ProjectPSIT/main/master.csv', engine = 'python', sep = ',')"
   ]
  },
  {
   "cell_type": "code",
   "execution_count": 10,
   "metadata": {},
   "outputs": [],
   "source": [
    "df_country = df.groupby(['Country', 'year']).sum().reset_index()\n",
    "df_country.replace(0, 1, inplace=True)"
   ]
  },
  {
   "cell_type": "code",
   "execution_count": 11,
   "metadata": {},
   "outputs": [],
   "source": [
    "code_df = pd.read_csv('https://raw.githubusercontent.com/plotly/datasets/master/2014_world_gdp_with_codes.csv')\n",
    "df_country_code = df_country.merge(code_df, left_on='Country', right_on='COUNTRY', how='left')\n",
    "df_year = df.groupby('year').sum()\n",
    "df_chocolate = df.groupby(['sex', 'age'], as_index=False).sum()"
   ]
  },
  {
   "cell_type": "code",
   "execution_count": 12,
   "metadata": {},
   "outputs": [],
   "source": [
    " # Build App\n",
    "YEARS = [x for x in range(1987, 2015)]\n",
    "app = JupyterDash(__name__, external_stylesheets=[dbc.themes.BOOTSTRAP])\n",
    "app.layout = html.Div(\n",
    "    id=\"root\",\n",
    "    children=[\n",
    "        html.Div(\n",
    "            id=\"header\",\n",
    "            className='jumbotron',\n",
    "            children=[\n",
    "                html.H1(children=\"Data Visualization Dashboard\")\n",
    "            ]),\n",
    "        dbc.Container(fluid=True,\n",
    "        children=[#Container\n",
    "            dbc.Row([#Row\n",
    "                dbc.Col([#Col1\n",
    "                        dcc.Slider(\n",
    "                            id='year-slider',\n",
    "                            min=min(YEARS),\n",
    "                            max=max(YEARS),\n",
    "                            value=min(YEARS),\n",
    "                        ),\n",
    "                        dcc.Graph(id='world-choropleth'),\n",
    "                        dcc.Graph(id='everest-graph'),\n",
    "                        dcc.Graph(id='chocolatebar-graph'),\n",
    "                    ],\n",
    "                    md=8),#Col1\n",
    "                dbc.Col([#Col2\n",
    "                        dcc.Dropdown(\n",
    "                            id='select-dropdown',\n",
    "                            options=[\n",
    "                                {'label': 'New York City', 'value': 'NYC'},\n",
    "                                {'label': 'Montreal', 'value': 'MTL'},\n",
    "                                {'label': 'San Francisco', 'value': 'SF'},\n",
    "                                {'label': 'Bangkok', 'value': 'BKK'}\n",
    "                                ],\n",
    "                            value='NYC'\n",
    "                            ),\n",
    "                    html.Div(id='dd-output-container',\n",
    "                    className='font-weight-bold'),\n",
    "                ])#Col2\n",
    "        ])#Row\n",
    "    ])#Container\n",
    "])#Div1"
   ]
  },
  {
   "cell_type": "code",
   "execution_count": 13,
   "metadata": {},
   "outputs": [],
   "source": [
    "# Define callback to update graph\n",
    "@app.callback(\n",
    "    Output(component_id='world-choropleth', component_property='figure'),\n",
    "    Output(component_id='everest-graph', component_property='figure'),\n",
    "    Output(component_id='chocolatebar-graph', component_property='figure'),\n",
    "    Output(component_id='dd-output-container', component_property='children'),\n",
    "    Input(component_id='year-slider', component_property='value'),\n",
    "    Input(component_id='select-dropdown', component_property='value')\n",
    ")\n",
    "def update_figure(year, pltselect):\n",
    "    df_choropleth = df_country_code.query('year=='+str(year))\n",
    "    world_suicide = go.Figure(data=go.Choropleth(\n",
    "    locations = df_choropleth['CODE'],\n",
    "    z = df_choropleth['suicides_no'],\n",
    "    text = df_choropleth['Country'],\n",
    "    colorscale = 'Oryel',\n",
    "    autocolorscale=False,\n",
    "    reversescale=False,\n",
    "    marker_line_color='darkgray',\n",
    "    marker_line_width=0.2,\n",
    "    colorbar_title = 'Suicide Cases',\n",
    "    ))\n",
    "\n",
    "    world_suicide.update_layout(\n",
    "    autosize=True,\n",
    "    title_text='Global Suicide Cases in ' + str(year),\n",
    "    geo=dict(\n",
    "        showframe=False,\n",
    "        showcoastlines=False,\n",
    "        projection_type='equirectangular'\n",
    "        )\n",
    "    )\n",
    "    everest_graph = px.line(df_year, x=df_year.index, y=\"suicides_no\", title='Worldwide Suicide case (1985 - 2015)')\n",
    "\n",
    "    chocolatebar_graph = px.bar(df_chocolate, x='sex', y=\"suicides_no\", color='age', barmode='group', title='Worldwide Suicide by Age and Gender (1985 - 2015)')\n",
    "\n",
    "    dd_output = 'You have selected' + str(' '+pltselect)\n",
    "    return world_suicide, everest_graph, chocolatebar_graph, dd_output"
   ]
  },
  {
   "cell_type": "code",
   "execution_count": 14,
   "metadata": {},
   "outputs": [
    {
     "output_type": "stream",
     "name": "stdout",
     "text": [
      "Dash app running on http://127.0.0.1:8050/\n"
     ]
    }
   ],
   "source": [
    "# Run app and display result inline in the notebook\n",
    "app.run_server(mode='external')"
   ]
  }
 ]
}