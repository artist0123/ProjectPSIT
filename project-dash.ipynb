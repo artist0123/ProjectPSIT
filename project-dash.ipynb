{
 "metadata": {
  "language_info": {
   "codemirror_mode": {
    "name": "ipython",
    "version": 3
   },
   "file_extension": ".py",
   "mimetype": "text/x-python",
   "name": "python",
   "nbconvert_exporter": "python",
   "pygments_lexer": "ipython3",
   "version": "3.8.5-final"
  },
  "orig_nbformat": 2,
  "kernelspec": {
   "name": "python3",
   "display_name": "Python 3",
   "language": "python"
  }
 },
 "nbformat": 4,
 "nbformat_minor": 2,
 "cells": [
  {
   "cell_type": "code",
   "execution_count": 75,
   "metadata": {},
   "outputs": [],
   "source": [
    "import plotly.express as px\n",
    "import plotly.graph_objects as go\n",
    "\n",
    "from jupyter_dash import JupyterDash\n",
    "import dash_core_components as dcc\n",
    "import dash_html_components as html\n",
    "from dash.dependencies import Input, Output\n",
    "import dash_bootstrap_components as dbc\n",
    "\n",
    "import pandas as pd\n",
    "import numpy as np"
   ]
  },
  {
   "cell_type": "code",
   "execution_count": 76,
   "metadata": {},
   "outputs": [],
   "source": [
    "df = pd.read_csv('https://raw.githubusercontent.com/artist0123/ProjectPSIT/main/master.csv', engine = 'python', sep = ',')"
   ]
  },
  {
   "cell_type": "code",
   "execution_count": 77,
   "metadata": {},
   "outputs": [],
   "source": [
    "df_country = df.groupby(['Country', 'year']).sum().reset_index()\n",
    "df_country.replace(0, 1, inplace=True)"
   ]
  },
  {
   "cell_type": "code",
   "execution_count": 78,
   "metadata": {},
   "outputs": [],
   "source": [
    "code_df = pd.read_csv('https://raw.githubusercontent.com/plotly/datasets/master/2014_world_gdp_with_codes.csv')\n",
    "df_country_code = df_country.merge(code_df, left_on='Country', right_on='COUNTRY', how='left')\n",
    "df_year = df.groupby('year').sum()\n",
    "df_chocolate = df.groupby(['sex', 'age'], as_index=False).sum()"
   ]
  },
  {
   "cell_type": "code",
   "execution_count": 81,
   "metadata": {},
   "outputs": [],
   "source": [
    " # Build App\n",
    "YEARS = [x for x in range(1987, 2015)]\n",
    "app = JupyterDash(__name__, external_stylesheets=[dbc.themes.BOOTSTRAP])\n",
    "\n",
    "card1 = [dbc.CardHeader(children=[\n",
    "                dcc.Graph(id='world-choropleth'),\n",
    "                        ]),#CardHeader\n",
    "                        dbc.CardBody(children=[\n",
    "                            dcc.Slider(\n",
    "                            id='year-slider',\n",
    "                            min=min(YEARS),\n",
    "                            max=max(YEARS),\n",
    "                            value=min(YEARS),\n",
    "                            marks={i:\"%d\" % i for i in YEARS},\n",
    "                            )\n",
    "                        ]),#CardBody\n",
    "                    ]\n",
    "\n",
    "card2 = [dbc.CardHeader(children=[\n",
    "            dcc.Graph(id='everest-graph'),\n",
    "            ]),#CardHeader\n",
    "            dbc.CardBody([\n",
    "                html.H5(\"Card title\", className=\"card-title\"),\n",
    "                html.P(\n",
    "                    \"This is some card content that we'll reuse\",\n",
    "                    className=\"card-text\",\n",
    "                )\n",
    "            ])\n",
    "        ]\n",
    "\n",
    "card3 = [dbc.CardHeader(children=[\n",
    "                dcc.Graph(id='chocolatebar-graph'),\n",
    "                        ]),#CardHeader\n",
    "                    ]\n",
    "\n",
    "app.layout = html.Div(children=[\n",
    "            html.Div(\n",
    "                id=\"header\",\n",
    "                className='jumbotron',\n",
    "                children=[\n",
    "                    html.H1(children=\"Data Visualization Dashboard\")\n",
    "                ]),\n",
    "            dbc.Container(fluid=False,\n",
    "            children=[#Container\n",
    "                dbc.Row([#Row\n",
    "                    dbc.Col([#Col1\n",
    "                        dbc.Card(card1, outline=True),\n",
    "                        dbc.Card(card2, outline=True),\n",
    "                        dbc.Card(card3, outline=True),\n",
    "                    ])#Col1\n",
    "            ])#Row\n",
    "        ])#Container\n",
    "    ])#Div1"
   ]
  },
  {
   "cell_type": "code",
   "execution_count": 73,
   "metadata": {},
   "outputs": [],
   "source": [
    "# Define callback to update graph\n",
    "@app.callback(\n",
    "    Output(component_id='world-choropleth', component_property='figure'),\n",
    "    Output(component_id='everest-graph', component_property='figure'),\n",
    "    Output(component_id='chocolatebar-graph', component_property='figure'),\n",
    "    Input(component_id='year-slider', component_property='value')\n",
    ")\n",
    "def update_figure(year):\n",
    "    df_choropleth = df_country_code.query('year=='+str(year))\n",
    "    world_suicide = go.Figure(data=go.Choropleth(\n",
    "    locations = df_choropleth['CODE'],\n",
    "    z = df_choropleth['suicides_no'],\n",
    "    text = df_choropleth['Country'],\n",
    "    colorscale = 'Oryel',\n",
    "    autocolorscale=False,\n",
    "    reversescale=False,\n",
    "    marker_line_color='darkgray',\n",
    "    marker_line_width=0.2,\n",
    "    colorbar_title = 'Suicide Cases',\n",
    "    ))\n",
    "\n",
    "    world_suicide.update_layout(\n",
    "    autosize=True,\n",
    "    title_text='Global Suicide Cases in ' + str(year),\n",
    "    geo=dict(\n",
    "        showframe=False,\n",
    "        showcoastlines=False,\n",
    "        projection_type='equirectangular'\n",
    "        )\n",
    "    )\n",
    "    everest_graph = px.line(df_year, x=df_year.index, y=\"suicides_no\", title='Worldwide Suicide case (1985 - 2015)')\n",
    "\n",
    "    chocolatebar_graph = px.bar(df_chocolate, x='sex', y=\"suicides_no\", color='age', barmode='group', title='Worldwide Suicide by Age and Gender (1985 - 2015)')\n",
    "\n",
    "    return world_suicide, everest_graph, chocolatebar_graph"
   ]
  },
  {
   "cell_type": "code",
   "execution_count": 74,
   "metadata": {},
   "outputs": [
    {
     "output_type": "stream",
     "name": "stdout",
     "text": [
      "Dash app running on http://127.0.0.1:8050/\n"
     ]
    }
   ],
   "source": [
    "# Run app and display result inline in the notebook\n",
    "app.run_server(mode='external')"
   ]
  }
 ]
}