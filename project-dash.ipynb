{
 "metadata": {
  "language_info": {
   "codemirror_mode": {
    "name": "ipython",
    "version": 3
   },
   "file_extension": ".py",
   "mimetype": "text/x-python",
   "name": "python",
   "nbconvert_exporter": "python",
   "pygments_lexer": "ipython3",
   "version": "3.8.3-final"
  },
  "orig_nbformat": 2,
  "kernelspec": {
   "name": "python3",
   "display_name": "Python 3",
   "language": "python"
  }
 },
 "nbformat": 4,
 "nbformat_minor": 2,
 "cells": [
  {
   "cell_type": "code",
   "execution_count": 15,
   "metadata": {},
   "outputs": [
    {
     "output_type": "stream",
     "name": "stdout",
     "text": [
      "Requirement already satisfied: plotly in /Users/natchapolnunthasunti/opt/anaconda3/lib/python3.8/site-packages (4.14.1)\n",
      "Requirement already satisfied: six in /Users/natchapolnunthasunti/opt/anaconda3/lib/python3.8/site-packages (from plotly) (1.15.0)\n",
      "Requirement already satisfied: retrying>=1.3.3 in /Users/natchapolnunthasunti/opt/anaconda3/lib/python3.8/site-packages (from plotly) (1.3.3)\n",
      "Requirement already satisfied: jupyter_dash in /Users/natchapolnunthasunti/opt/anaconda3/lib/python3.8/site-packages (0.3.1)\n",
      "Requirement already satisfied: dash in /Users/natchapolnunthasunti/opt/anaconda3/lib/python3.8/site-packages (from jupyter_dash) (1.18.1)\n",
      "Requirement already satisfied: retrying in /Users/natchapolnunthasunti/opt/anaconda3/lib/python3.8/site-packages (from jupyter_dash) (1.3.3)\n",
      "Requirement already satisfied: requests in /Users/natchapolnunthasunti/opt/anaconda3/lib/python3.8/site-packages (from jupyter_dash) (2.24.0)\n",
      "Requirement already satisfied: flask in /Users/natchapolnunthasunti/opt/anaconda3/lib/python3.8/site-packages (from jupyter_dash) (1.1.2)\n",
      "Requirement already satisfied: ipython in /Users/natchapolnunthasunti/opt/anaconda3/lib/python3.8/site-packages (from jupyter_dash) (7.16.1)\n",
      "Requirement already satisfied: ansi2html in /Users/natchapolnunthasunti/opt/anaconda3/lib/python3.8/site-packages (from jupyter_dash) (1.6.0)\n",
      "Requirement already satisfied: ipykernel in /Users/natchapolnunthasunti/opt/anaconda3/lib/python3.8/site-packages (from jupyter_dash) (5.3.2)\n",
      "Requirement already satisfied: dash-table==4.11.1 in /Users/natchapolnunthasunti/opt/anaconda3/lib/python3.8/site-packages (from dash->jupyter_dash) (4.11.1)\n",
      "Requirement already satisfied: future in /Users/natchapolnunthasunti/opt/anaconda3/lib/python3.8/site-packages (from dash->jupyter_dash) (0.18.2)\n",
      "Requirement already satisfied: plotly in /Users/natchapolnunthasunti/opt/anaconda3/lib/python3.8/site-packages (from dash->jupyter_dash) (4.14.1)\n",
      "Requirement already satisfied: dash-renderer==1.8.3 in /Users/natchapolnunthasunti/opt/anaconda3/lib/python3.8/site-packages (from dash->jupyter_dash) (1.8.3)\n",
      "Requirement already satisfied: dash-html-components==1.1.1 in /Users/natchapolnunthasunti/opt/anaconda3/lib/python3.8/site-packages (from dash->jupyter_dash) (1.1.1)\n",
      "Requirement already satisfied: flask-compress in /Users/natchapolnunthasunti/opt/anaconda3/lib/python3.8/site-packages (from dash->jupyter_dash) (1.8.0)\n",
      "Requirement already satisfied: dash-core-components==1.14.1 in /Users/natchapolnunthasunti/opt/anaconda3/lib/python3.8/site-packages (from dash->jupyter_dash) (1.14.1)\n",
      "Requirement already satisfied: six>=1.7.0 in /Users/natchapolnunthasunti/opt/anaconda3/lib/python3.8/site-packages (from retrying->jupyter_dash) (1.15.0)\n",
      "Requirement already satisfied: urllib3!=1.25.0,!=1.25.1,<1.26,>=1.21.1 in /Users/natchapolnunthasunti/opt/anaconda3/lib/python3.8/site-packages (from requests->jupyter_dash) (1.25.9)\n",
      "Requirement already satisfied: idna<3,>=2.5 in /Users/natchapolnunthasunti/opt/anaconda3/lib/python3.8/site-packages (from requests->jupyter_dash) (2.10)\n",
      "Requirement already satisfied: chardet<4,>=3.0.2 in /Users/natchapolnunthasunti/opt/anaconda3/lib/python3.8/site-packages (from requests->jupyter_dash) (3.0.4)\n",
      "Requirement already satisfied: certifi>=2017.4.17 in /Users/natchapolnunthasunti/opt/anaconda3/lib/python3.8/site-packages (from requests->jupyter_dash) (2020.6.20)\n",
      "Requirement already satisfied: itsdangerous>=0.24 in /Users/natchapolnunthasunti/opt/anaconda3/lib/python3.8/site-packages (from flask->jupyter_dash) (1.1.0)\n",
      "Requirement already satisfied: Werkzeug>=0.15 in /Users/natchapolnunthasunti/opt/anaconda3/lib/python3.8/site-packages (from flask->jupyter_dash) (1.0.1)\n",
      "Requirement already satisfied: Jinja2>=2.10.1 in /Users/natchapolnunthasunti/opt/anaconda3/lib/python3.8/site-packages (from flask->jupyter_dash) (2.11.2)\n",
      "Requirement already satisfied: click>=5.1 in /Users/natchapolnunthasunti/opt/anaconda3/lib/python3.8/site-packages (from flask->jupyter_dash) (7.1.2)\n",
      "Requirement already satisfied: appnope; sys_platform == \"darwin\" in /Users/natchapolnunthasunti/opt/anaconda3/lib/python3.8/site-packages (from ipython->jupyter_dash) (0.1.0)\n",
      "Requirement already satisfied: traitlets>=4.2 in /Users/natchapolnunthasunti/opt/anaconda3/lib/python3.8/site-packages (from ipython->jupyter_dash) (4.3.3)\n",
      "Requirement already satisfied: pygments in /Users/natchapolnunthasunti/opt/anaconda3/lib/python3.8/site-packages (from ipython->jupyter_dash) (2.6.1)\n",
      "Requirement already satisfied: pexpect; sys_platform != \"win32\" in /Users/natchapolnunthasunti/opt/anaconda3/lib/python3.8/site-packages (from ipython->jupyter_dash) (4.8.0)\n",
      "Requirement already satisfied: setuptools>=18.5 in /Users/natchapolnunthasunti/opt/anaconda3/lib/python3.8/site-packages (from ipython->jupyter_dash) (49.2.0.post20200714)\n",
      "Requirement already satisfied: prompt-toolkit!=3.0.0,!=3.0.1,<3.1.0,>=2.0.0 in /Users/natchapolnunthasunti/opt/anaconda3/lib/python3.8/site-packages (from ipython->jupyter_dash) (3.0.5)\n",
      "Requirement already satisfied: decorator in /Users/natchapolnunthasunti/opt/anaconda3/lib/python3.8/site-packages (from ipython->jupyter_dash) (4.4.2)\n",
      "Requirement already satisfied: jedi>=0.10 in /Users/natchapolnunthasunti/opt/anaconda3/lib/python3.8/site-packages (from ipython->jupyter_dash) (0.17.1)\n",
      "Requirement already satisfied: backcall in /Users/natchapolnunthasunti/opt/anaconda3/lib/python3.8/site-packages (from ipython->jupyter_dash) (0.2.0)\n",
      "Requirement already satisfied: pickleshare in /Users/natchapolnunthasunti/opt/anaconda3/lib/python3.8/site-packages (from ipython->jupyter_dash) (0.7.5)\n",
      "Requirement already satisfied: jupyter-client in /Users/natchapolnunthasunti/opt/anaconda3/lib/python3.8/site-packages (from ipykernel->jupyter_dash) (6.1.6)\n",
      "Requirement already satisfied: tornado>=4.2 in /Users/natchapolnunthasunti/opt/anaconda3/lib/python3.8/site-packages (from ipykernel->jupyter_dash) (6.0.4)\n",
      "Requirement already satisfied: brotli in /Users/natchapolnunthasunti/opt/anaconda3/lib/python3.8/site-packages (from flask-compress->dash->jupyter_dash) (1.0.9)\n",
      "Requirement already satisfied: MarkupSafe>=0.23 in /Users/natchapolnunthasunti/opt/anaconda3/lib/python3.8/site-packages (from Jinja2>=2.10.1->flask->jupyter_dash) (1.1.1)\n",
      "Requirement already satisfied: ipython-genutils in /Users/natchapolnunthasunti/opt/anaconda3/lib/python3.8/site-packages (from traitlets>=4.2->ipython->jupyter_dash) (0.2.0)\n",
      "Requirement already satisfied: ptyprocess>=0.5 in /Users/natchapolnunthasunti/opt/anaconda3/lib/python3.8/site-packages (from pexpect; sys_platform != \"win32\"->ipython->jupyter_dash) (0.6.0)\n",
      "Requirement already satisfied: wcwidth in /Users/natchapolnunthasunti/opt/anaconda3/lib/python3.8/site-packages (from prompt-toolkit!=3.0.0,!=3.0.1,<3.1.0,>=2.0.0->ipython->jupyter_dash) (0.2.5)\n",
      "Requirement already satisfied: parso<0.8.0,>=0.7.0 in /Users/natchapolnunthasunti/opt/anaconda3/lib/python3.8/site-packages (from jedi>=0.10->ipython->jupyter_dash) (0.7.0)\n",
      "Requirement already satisfied: jupyter-core>=4.6.0 in /Users/natchapolnunthasunti/opt/anaconda3/lib/python3.8/site-packages (from jupyter-client->ipykernel->jupyter_dash) (4.6.3)\n",
      "Requirement already satisfied: pyzmq>=13 in /Users/natchapolnunthasunti/opt/anaconda3/lib/python3.8/site-packages (from jupyter-client->ipykernel->jupyter_dash) (19.0.1)\n",
      "Requirement already satisfied: python-dateutil>=2.1 in /Users/natchapolnunthasunti/opt/anaconda3/lib/python3.8/site-packages (from jupyter-client->ipykernel->jupyter_dash) (2.8.1)\n",
      "Requirement already satisfied: pandas in /Users/natchapolnunthasunti/opt/anaconda3/lib/python3.8/site-packages (1.0.5)\n",
      "Requirement already satisfied: python-dateutil>=2.6.1 in /Users/natchapolnunthasunti/opt/anaconda3/lib/python3.8/site-packages (from pandas) (2.8.1)\n",
      "Requirement already satisfied: numpy>=1.13.3 in /Users/natchapolnunthasunti/opt/anaconda3/lib/python3.8/site-packages (from pandas) (1.18.5)\n",
      "Requirement already satisfied: pytz>=2017.2 in /Users/natchapolnunthasunti/opt/anaconda3/lib/python3.8/site-packages (from pandas) (2020.1)\n",
      "Requirement already satisfied: six>=1.5 in /Users/natchapolnunthasunti/opt/anaconda3/lib/python3.8/site-packages (from python-dateutil>=2.6.1->pandas) (1.15.0)\n",
      "Requirement already satisfied: dash in /Users/natchapolnunthasunti/opt/anaconda3/lib/python3.8/site-packages (1.18.1)\n",
      "Requirement already satisfied: flask-compress in /Users/natchapolnunthasunti/opt/anaconda3/lib/python3.8/site-packages (from dash) (1.8.0)\n",
      "Requirement already satisfied: Flask>=1.0.4 in /Users/natchapolnunthasunti/opt/anaconda3/lib/python3.8/site-packages (from dash) (1.1.2)\n",
      "Requirement already satisfied: dash-core-components==1.14.1 in /Users/natchapolnunthasunti/opt/anaconda3/lib/python3.8/site-packages (from dash) (1.14.1)\n",
      "Requirement already satisfied: dash-html-components==1.1.1 in /Users/natchapolnunthasunti/opt/anaconda3/lib/python3.8/site-packages (from dash) (1.1.1)\n",
      "Requirement already satisfied: dash-renderer==1.8.3 in /Users/natchapolnunthasunti/opt/anaconda3/lib/python3.8/site-packages (from dash) (1.8.3)\n",
      "Requirement already satisfied: future in /Users/natchapolnunthasunti/opt/anaconda3/lib/python3.8/site-packages (from dash) (0.18.2)\n",
      "Requirement already satisfied: plotly in /Users/natchapolnunthasunti/opt/anaconda3/lib/python3.8/site-packages (from dash) (4.14.1)\n",
      "Requirement already satisfied: dash-table==4.11.1 in /Users/natchapolnunthasunti/opt/anaconda3/lib/python3.8/site-packages (from dash) (4.11.1)\n",
      "Requirement already satisfied: brotli in /Users/natchapolnunthasunti/opt/anaconda3/lib/python3.8/site-packages (from flask-compress->dash) (1.0.9)\n",
      "Requirement already satisfied: click>=5.1 in /Users/natchapolnunthasunti/opt/anaconda3/lib/python3.8/site-packages (from Flask>=1.0.4->dash) (7.1.2)\n",
      "Requirement already satisfied: Werkzeug>=0.15 in /Users/natchapolnunthasunti/opt/anaconda3/lib/python3.8/site-packages (from Flask>=1.0.4->dash) (1.0.1)\n",
      "Requirement already satisfied: itsdangerous>=0.24 in /Users/natchapolnunthasunti/opt/anaconda3/lib/python3.8/site-packages (from Flask>=1.0.4->dash) (1.1.0)\n",
      "Requirement already satisfied: Jinja2>=2.10.1 in /Users/natchapolnunthasunti/opt/anaconda3/lib/python3.8/site-packages (from Flask>=1.0.4->dash) (2.11.2)\n",
      "Requirement already satisfied: retrying>=1.3.3 in /Users/natchapolnunthasunti/opt/anaconda3/lib/python3.8/site-packages (from plotly->dash) (1.3.3)\n",
      "Requirement already satisfied: six in /Users/natchapolnunthasunti/opt/anaconda3/lib/python3.8/site-packages (from plotly->dash) (1.15.0)\n",
      "Requirement already satisfied: MarkupSafe>=0.23 in /Users/natchapolnunthasunti/opt/anaconda3/lib/python3.8/site-packages (from Jinja2>=2.10.1->Flask>=1.0.4->dash) (1.1.1)\n",
      "Requirement already satisfied: dash-bootstrap-components in /Users/natchapolnunthasunti/opt/anaconda3/lib/python3.8/site-packages (0.10.7)\n",
      "Requirement already satisfied: dash>=1.9.0 in /Users/natchapolnunthasunti/opt/anaconda3/lib/python3.8/site-packages (from dash-bootstrap-components) (1.18.1)\n",
      "Requirement already satisfied: dash-renderer==1.8.3 in /Users/natchapolnunthasunti/opt/anaconda3/lib/python3.8/site-packages (from dash>=1.9.0->dash-bootstrap-components) (1.8.3)\n",
      "Requirement already satisfied: flask-compress in /Users/natchapolnunthasunti/opt/anaconda3/lib/python3.8/site-packages (from dash>=1.9.0->dash-bootstrap-components) (1.8.0)\n",
      "Requirement already satisfied: dash-html-components==1.1.1 in /Users/natchapolnunthasunti/opt/anaconda3/lib/python3.8/site-packages (from dash>=1.9.0->dash-bootstrap-components) (1.1.1)\n",
      "Requirement already satisfied: plotly in /Users/natchapolnunthasunti/opt/anaconda3/lib/python3.8/site-packages (from dash>=1.9.0->dash-bootstrap-components) (4.14.1)\n",
      "Requirement already satisfied: Flask>=1.0.4 in /Users/natchapolnunthasunti/opt/anaconda3/lib/python3.8/site-packages (from dash>=1.9.0->dash-bootstrap-components) (1.1.2)\n",
      "Requirement already satisfied: future in /Users/natchapolnunthasunti/opt/anaconda3/lib/python3.8/site-packages (from dash>=1.9.0->dash-bootstrap-components) (0.18.2)\n",
      "Requirement already satisfied: dash-table==4.11.1 in /Users/natchapolnunthasunti/opt/anaconda3/lib/python3.8/site-packages (from dash>=1.9.0->dash-bootstrap-components) (4.11.1)\n",
      "Requirement already satisfied: dash-core-components==1.14.1 in /Users/natchapolnunthasunti/opt/anaconda3/lib/python3.8/site-packages (from dash>=1.9.0->dash-bootstrap-components) (1.14.1)\n",
      "Requirement already satisfied: brotli in /Users/natchapolnunthasunti/opt/anaconda3/lib/python3.8/site-packages (from flask-compress->dash>=1.9.0->dash-bootstrap-components) (1.0.9)\n",
      "Requirement already satisfied: six in /Users/natchapolnunthasunti/opt/anaconda3/lib/python3.8/site-packages (from plotly->dash>=1.9.0->dash-bootstrap-components) (1.15.0)\n",
      "Requirement already satisfied: retrying>=1.3.3 in /Users/natchapolnunthasunti/opt/anaconda3/lib/python3.8/site-packages (from plotly->dash>=1.9.0->dash-bootstrap-components) (1.3.3)\n",
      "Requirement already satisfied: Jinja2>=2.10.1 in /Users/natchapolnunthasunti/opt/anaconda3/lib/python3.8/site-packages (from Flask>=1.0.4->dash>=1.9.0->dash-bootstrap-components) (2.11.2)\n",
      "Requirement already satisfied: click>=5.1 in /Users/natchapolnunthasunti/opt/anaconda3/lib/python3.8/site-packages (from Flask>=1.0.4->dash>=1.9.0->dash-bootstrap-components) (7.1.2)\n",
      "Requirement already satisfied: Werkzeug>=0.15 in /Users/natchapolnunthasunti/opt/anaconda3/lib/python3.8/site-packages (from Flask>=1.0.4->dash>=1.9.0->dash-bootstrap-components) (1.0.1)\n",
      "Requirement already satisfied: itsdangerous>=0.24 in /Users/natchapolnunthasunti/opt/anaconda3/lib/python3.8/site-packages (from Flask>=1.0.4->dash>=1.9.0->dash-bootstrap-components) (1.1.0)\n",
      "Requirement already satisfied: MarkupSafe>=0.23 in /Users/natchapolnunthasunti/opt/anaconda3/lib/python3.8/site-packages (from Jinja2>=2.10.1->Flask>=1.0.4->dash>=1.9.0->dash-bootstrap-components) (1.1.1)\n"
     ]
    }
   ],
   "source": [
    "import sys #ติดตั้งไลบรารี่\n",
    "!{sys.executable} -m pip install plotly\n",
    "!{sys.executable} -m pip install jupyter_dash\n",
    "!{sys.executable} -m pip install pandas\n",
    "!{sys.executable} -m pip install dash\n",
    "!{sys.executable} -m pip install dash-bootstrap-components"
   ]
  },
  {
   "cell_type": "code",
   "execution_count": 16,
   "metadata": {},
   "outputs": [],
   "source": [
    "import plotly.express as px\n",
    "import plotly.graph_objects as go\n",
    "\n",
    "from jupyter_dash import JupyterDash\n",
    "import dash_core_components as dcc\n",
    "import dash_html_components as html\n",
    "from dash.dependencies import Input, Output\n",
    "import dash_bootstrap_components as dbc\n",
    "\n",
    "import pandas as pd\n",
    "import numpy as np"
   ]
  },
  {
   "cell_type": "code",
   "execution_count": 17,
   "metadata": {},
   "outputs": [],
   "source": [
    "#อ่านค่าไฟล์ฐานข้อมูลด้วย pandas เก็บไว้ในตัวแปร\n",
    "df = pd.read_csv('https://raw.githubusercontent.com/artist0123/ProjectPSIT/main/master.csv', engine = 'python', sep = ',')\n",
    "code_df = pd.read_csv('https://raw.githubusercontent.com/plotly/datasets/master/2014_world_gdp_with_codes.csv')"
   ]
  },
  {
   "cell_type": "code",
   "execution_count": 18,
   "metadata": {},
   "outputs": [],
   "source": [
    "#จัดกลุ่ม Data Frame ตามประเทศและปี\n",
    "df_country = df.groupby(['Country', 'year']).sum().reset_index()\n",
    "df_country.replace(0, 1, inplace=True)"
   ]
  },
  {
   "cell_type": "code",
   "execution_count": 19,
   "metadata": {},
   "outputs": [],
   "source": [
    "#merge Data Frame ประเทศและรหัสประเทศเพื่อนำไปใช้แสดงใน Choropleth map (แผนที่)\n",
    "df_country_code = df_country.merge(code_df, left_on='Country', right_on='COUNTRY', how='left') "
   ]
  },
  {
   "cell_type": "code",
   "execution_count": 20,
   "metadata": {},
   "outputs": [],
   "source": [
    "#จัด Data Frame ตามปี แล้วหาผลรวมของข้อมูลในแต่ละ column เพื่อนำไปใช้ใน Choropleth map\n",
    "df_year = df.groupby('year').sum()"
   ]
  },
  {
   "cell_type": "code",
   "execution_count": 21,
   "metadata": {},
   "outputs": [],
   "source": [
    "#จัด Data Frame ตามเพศและช่วงอายุ เพื่อนำไปใช้ในแผนภูมิแท่ง\n",
    "df_chocolate = df.groupby(['sex', 'age'], as_index=False).sum()"
   ]
  },
  {
   "cell_type": "code",
   "execution_count": 22,
   "metadata": {},
   "outputs": [],
   "source": [
    "#จัด Data Frame ตามประเทศ เพื่อนำไปใช้หาประเทศที่มีจำนวนการฆ่าตัวตายมากที่สุด\n",
    "df_suicideno = df.groupby('Country', as_index=False).sum()"
   ]
  },
  {
   "cell_type": "code",
   "execution_count": 23,
   "metadata": {},
   "outputs": [],
   "source": [
    "#จัด Data Frame ตามช่วงอายุ เพื่อนำไปใช้หาช่วงอายุที่มีจำนวนการฆ่าตัวตายมากที่สุด\n",
    "df_age = df.groupby('age', as_index=False).sum()"
   ]
  },
  {
   "cell_type": "code",
   "execution_count": 24,
   "metadata": {},
   "outputs": [
    {
     "output_type": "execute_result",
     "data": {
      "text/plain": [
       "Country               Russian Federation\n",
       "year                              648648\n",
       "suicides_no                      1209742\n",
       "population                    3690802620\n",
       "suicides/100k pop                11305.1\n",
       "HDI for year                           0\n",
       "gdp_per_capita ($)               2112096\n",
       "Name: 75, dtype: object"
      ]
     },
     "metadata": {},
     "execution_count": 24
    }
   ],
   "source": [
    "df_suicideno.loc[df_suicideno['suicides_no'].idxmax()] #หาประเทศที่มีจำนวน suicides_no มากที่สุด"
   ]
  },
  {
   "cell_type": "code",
   "execution_count": 25,
   "metadata": {},
   "outputs": [
    {
     "output_type": "execute_result",
     "data": {
      "text/plain": [
       "age                   35-54 years\n",
       "year                      9289920\n",
       "suicides_no               2452141\n",
       "population            14375888123\n",
       "suicides/100k pop           69386\n",
       "HDI for year              1082.58\n",
       "gdp_per_capita ($)       78341054\n",
       "Name: 2, dtype: object"
      ]
     },
     "metadata": {},
     "execution_count": 25
    }
   ],
   "source": [
    "df_age.loc[df_age['suicides_no'].idxmax()] #หาช่วงอายุที่มีจำนวน suicides_no มากที่สุด"
   ]
  },
  {
   "cell_type": "code",
   "execution_count": 26,
   "metadata": {},
   "outputs": [
    {
     "output_type": "execute_result",
     "data": {
      "text/plain": [
       "     Country    year  suicides_no  population  suicides/100k pop  \\\n",
       "91  Thailand  668508       110643  1584800281            2362.67   \n",
       "\n",
       "    HDI for year  gdp_per_capita ($)  \n",
       "91         79.98             1193102  "
      ],
      "text/html": "<div>\n<style scoped>\n    .dataframe tbody tr th:only-of-type {\n        vertical-align: middle;\n    }\n\n    .dataframe tbody tr th {\n        vertical-align: top;\n    }\n\n    .dataframe thead th {\n        text-align: right;\n    }\n</style>\n<table border=\"1\" class=\"dataframe\">\n  <thead>\n    <tr style=\"text-align: right;\">\n      <th></th>\n      <th>Country</th>\n      <th>year</th>\n      <th>suicides_no</th>\n      <th>population</th>\n      <th>suicides/100k pop</th>\n      <th>HDI for year</th>\n      <th>gdp_per_capita ($)</th>\n    </tr>\n  </thead>\n  <tbody>\n    <tr>\n      <th>91</th>\n      <td>Thailand</td>\n      <td>668508</td>\n      <td>110643</td>\n      <td>1584800281</td>\n      <td>2362.67</td>\n      <td>79.98</td>\n      <td>1193102</td>\n    </tr>\n  </tbody>\n</table>\n</div>"
     },
     "metadata": {},
     "execution_count": 26
    }
   ],
   "source": [
    "df_suicideno.loc[df_suicideno['Country']=='Thailand'] #หาข้อมูลของประเทศไทย"
   ]
  },
  {
   "cell_type": "code",
   "execution_count": 27,
   "metadata": {},
   "outputs": [],
   "source": [
    " # ส่วน Layout ใช้ Component ของ Dash และ Dash Bootstrap เพื่อมาแสดงเป็น Dashboard \n",
    "YEARS = [x for x in range(1985, 2017)]\n",
    "app = JupyterDash(__name__, external_stylesheets=[dbc.themes.BOOTSTRAP])\n",
    "\n",
    "#Choropleth map\n",
    "card1 = [dbc.CardHeader(children=[\n",
    "                dcc.Graph(id='world-choropleth'),\n",
    "                        ]),#CardHeader\n",
    "                        dbc.CardBody(children=[\n",
    "                            dcc.Slider(\n",
    "                            id='year-slider',\n",
    "                            min=min(YEARS),\n",
    "                            max=max(YEARS),\n",
    "                            value=min(YEARS),\n",
    "                            marks={i:\"%d\" % i for i in YEARS},\n",
    "                            ),\n",
    "                            html.P(#ข้อความใน card\n",
    "                                \"นี่คือกราฟแผนที่แสดงการฆ่าตัวตายของทั่วโลกตั้งแต่ปี 1985-2016\", \n",
    "                                className=\"card-text\",\n",
    "                            ),\n",
    "                            html.P(\n",
    "                                \"ท่านสามารถเลือกดูปีที่ต้องการได้โดยการเลื่อน Slide Bar ด้านบน \", #ข้อความใน card\n",
    "                                className=\"card-text\",\n",
    "                            ),\n",
    "                            html.P(\n",
    "                                \"โดยทุกประเทศทั่วโลกมีอัตราการฆ่าตัวตายที่มากขึ้นเรื่อยๆจากปี1985\",\n",
    "                            )\n",
    "                        ]),#CardBody\n",
    "                    ]\n",
    "#Line Graph\n",
    "card2 = [dbc.CardHeader(children=[\n",
    "            dcc.Graph(id='everest-graph'),\n",
    "                        ]),#CardHeader\n",
    "            dbc.CardBody([\n",
    "                html.P(\n",
    "                    \"กราฟเส้นนี้แสดงถึงจำนวนคนฆ่าตัวตายทั้งหมดในแต่ละปี\", #ข้อความใน card\n",
    "                    className=\"card-text\",\n",
    "                ),\n",
    "                html.P(\n",
    "                    \"ซึ่งกราฟมีแนวโน้มเพิ่มขึ้นจากปี 1985 เรื่อยๆและคงที่\", #ข้อความใน card\n",
    "                    className=\"card-text\",\n",
    "                )\n",
    "            ])\n",
    "        ]\n",
    "\n",
    "#Grouped Bar Chart\n",
    "card3 = [dbc.CardHeader(children=[\n",
    "                dcc.Graph(id='chocolatebar-graph'),\n",
    "                        ]),#CardHeader\n",
    "            dbc.CardBody([\n",
    "                html.P(\n",
    "                    \"แนวโน้มในกราฟนี้จะแสดงถึงการฆ่าตัวตายว่าช่วงอายุระหว่าง 35-54 ปีได้มีการฆ่าตัวตายมากที่สุด\", #ข้อความใน card\n",
    "                    className=\"card-text\",\n",
    "                ),\n",
    "                html.P(\n",
    "                    \"ซึ่งเพศชายมีอัตาการตายมากกว่าเพศหญิงในทุกวัย\", #ข้อความใน card\n",
    "                    className=\"card-text\",\n",
    "                )\n",
    "            ])\n",
    "        ]\n",
    "#Column แสดงข้อมูลประเทศที่มีจำนวนการฆ่าตัวตายมากที่สุด\n",
    "mostdead = [\n",
    "    dbc.Col(children=[\n",
    "        html.H6(\"ประเทศที่มีการฆ่าตัวตายเยอะที่สุด\"),\n",
    "        html.H3(\"สหพันธรัฐรัสเซีย\"),\n",
    "        html.H2(\"{:,} คน\".format(1209742))\n",
    "    ])\n",
    "]\n",
    "#Column แสดงข้อมูลช่วงอายุที่มีจำนวนการฆ่าตัวตายมากที่สุด\n",
    "agedead = [\n",
    "    dbc.Col(children=[\n",
    "        html.H6(\"ช่วงอายุที่มีการฆ่าตัวตายเยอะที่สุด\"),\n",
    "        html.H3(\"35-54 ปี\"),\n",
    "        html.H2(\"{:,} คน\".format(2452141))\n",
    "    ])\n",
    "]\n",
    "#Column แสดงข้อมูลจำนวนการฆ่าตัวตายในประเทศไทย\n",
    "thaidead = [\n",
    "    dbc.Col(children=[\n",
    "        html.H6(\"ประเทศไทยมีการฆ่าตัวตาย\"),\n",
    "        html.H2(\"{:,} คน\".format(110643))\n",
    "    ])\n",
    "]\n",
    "\n",
    "app.layout = html.Div(children=[\n",
    "            html.Div(\n",
    "                id=\"header\",\n",
    "                className='jumbotron',\n",
    "                children=[\n",
    "                    html.H1(children=\"Data Visualization Dashboard\"),\n",
    "                    html.H3(\"แดชบอร์ดแสดงข้อมูลการฆ่าตัวตายของทั่วโลกตั้งแต่ปี 1987-2016\"),\n",
    "                    \"เยี่ยมชม GitHub ของพวกเรา \",\n",
    "                    dcc.Link(\n",
    "                        href=\"https://github.com/artist0123/ProjectPSIT\",\n",
    "                        children=[\"กดที่นี่\"],\n",
    "                        )\n",
    "                ]),#DivHeader\n",
    "            dbc.Container(fluid=False,\n",
    "            children=[#Container\n",
    "                dbc.Row([#Row1\n",
    "                    dbc.Col(mostdead),\n",
    "                    dbc.Col(agedead),\n",
    "                    dbc.Col(thaidead),\n",
    "                ]),#Row1\n",
    "                dbc.Row([#Row2\n",
    "                    dbc.Col([#Col1\n",
    "                        dbc.Card(card1, outline=True),\n",
    "                        html.Br(),\n",
    "                        dbc.Card(card2, outline=True),\n",
    "                        html.Br(),\n",
    "                        dbc.Card(card3, outline=True),\n",
    "                    ])#Col1\n",
    "            ])#Row2\n",
    "        ]),#Container\n",
    "    ])#Div1"
   ]
  },
  {
   "cell_type": "code",
   "execution_count": 28,
   "metadata": {},
   "outputs": [],
   "source": [
    "# ส่วน Callback เพื่อใช้ในการ update graph\n",
    "@app.callback(\n",
    "    Output(component_id='world-choropleth', component_property='figure'),\n",
    "    Output(component_id='everest-graph', component_property='figure'),\n",
    "    Output(component_id='chocolatebar-graph', component_property='figure'),\n",
    "    Input(component_id='year-slider', component_property='value')\n",
    ")\n",
    "def update_figure(year):\n",
    "    df_choropleth = df_country_code.query('year=='+str(year))\n",
    "    world_suicide = go.Figure(data=go.Choropleth(\n",
    "    locations = df_choropleth['CODE'],\n",
    "    z = df_choropleth['suicides_no'],\n",
    "    text = df_choropleth['Country'],\n",
    "    colorscale = 'Oryel',\n",
    "    autocolorscale=False,\n",
    "    reversescale=False,\n",
    "    marker_line_color='darkgray',\n",
    "    marker_line_width=0.2,\n",
    "    colorbar_title = 'Suicide Cases',\n",
    "    ))\n",
    "\n",
    "    world_suicide.update_layout(\n",
    "    autosize=True,\n",
    "    title_text='สถิติการฆ่าตัวตายของทั่วโลกในปี ' + str(year),\n",
    "    geo=dict(\n",
    "        showframe=False,\n",
    "        showcoastlines=False,\n",
    "        projection_type='equirectangular'\n",
    "        )\n",
    "    )\n",
    "    everest_graph = px.line(df_year, x=df_year.index, y=\"suicides_no\", title='สถิติการฆ่าตัวตายตั้งแต่ปี 1985 - 2016')\n",
    "\n",
    "    chocolatebar_graph = px.bar(df_chocolate, x='age', y=\"suicides_no\", color='sex', barmode='group', title='สถิติการฆ่าตัวตายโดยจำแนกเพศและช่วงอายุในปี 1985 - 2016')\n",
    "\n",
    "    return world_suicide, everest_graph, chocolatebar_graph"
   ]
  },
  {
   "cell_type": "code",
   "execution_count": 29,
   "metadata": {},
   "outputs": [
    {
     "output_type": "stream",
     "name": "stdout",
     "text": [
      "Dash app running on http://127.0.0.1:8050/\n"
     ]
    }
   ],
   "source": [
    "# Run app\n",
    "app.run_server(mode='external')"
   ]
  }
 ]
}