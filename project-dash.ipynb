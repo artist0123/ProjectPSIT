{
 "metadata": {
  "language_info": {
   "codemirror_mode": {
    "name": "ipython",
    "version": 3
   },
   "file_extension": ".py",
   "mimetype": "text/x-python",
   "name": "python",
   "nbconvert_exporter": "python",
   "pygments_lexer": "ipython3",
   "version": "3.8.5-final"
  },
  "orig_nbformat": 2,
  "kernelspec": {
   "name": "python3",
   "display_name": "Python 3",
   "language": "python"
  }
 },
 "nbformat": 4,
 "nbformat_minor": 2,
 "cells": [
  {
   "cell_type": "code",
   "execution_count": 107,
   "metadata": {},
   "outputs": [],
   "source": [
    "import plotly.express as px\n",
    "import plotly.graph_objects as go\n",
    "\n",
    "from jupyter_dash import JupyterDash\n",
    "import dash_core_components as dcc\n",
    "import dash_html_components as html\n",
    "from dash.dependencies import Input, Output\n",
    "import dash_bootstrap_components as dbc\n",
    "\n",
    "import pandas as pd\n",
    "import numpy as np"
   ]
  },
  {
   "cell_type": "code",
   "execution_count": 108,
   "metadata": {},
   "outputs": [],
   "source": [
    "df = pd.read_csv('https://raw.githubusercontent.com/artist0123/ProjectPSIT/main/master.csv', engine = 'python', sep = ',')"
   ]
  },
  {
   "cell_type": "code",
   "execution_count": 109,
   "metadata": {},
   "outputs": [],
   "source": [
    "df_country = df.groupby(['Country', 'year']).sum().reset_index()\n",
    "df_country.replace(0, 1, inplace=True)"
   ]
  },
  {
   "cell_type": "code",
   "execution_count": 110,
   "metadata": {},
   "outputs": [
    {
     "output_type": "execute_result",
     "data": {
      "text/plain": [
       "       sex          age     year  suicides_no  population  suicides/100k pop  \\\n",
       "0   female  15-24 years  4644960       175437  4245159089           10045.33   \n",
       "6     male  15-24 years  4644960       633105  4397787807           31487.36   \n",
       "1   female  25-34 years  4644960       208823  4190523226           10614.42   \n",
       "7     male  25-34 years  4644960       915089  4247580361           45957.10   \n",
       "2   female  35-54 years  4644960       506233  7266872023           13732.15   \n",
       "8     male  35-54 years  4644960      1945908  7109016100           55653.87   \n",
       "3   female   5-14 years  4612704        16997  4107939076            1065.49   \n",
       "9     male   5-14 years  4612704        35267  4290754161            1792.90   \n",
       "4   female  55-74 years  4644960       430036  4756740046           16533.52   \n",
       "10    male  55-74 years  4644960      1228407  4046505294           58460.68   \n",
       "5   female    75+ years  4644960       221984  1705548397           23023.86   \n",
       "11    male    75+ years  4644960       431134   957732856           88177.15   \n",
       "\n",
       "    HDI for year  gdp_per_capita ($)  \n",
       "0        541.291            39170527  \n",
       "6        541.291            39170527  \n",
       "1        541.291            39170527  \n",
       "7        541.291            39170527  \n",
       "2        541.291            39170527  \n",
       "8        541.291            39170527  \n",
       "3        541.291            38759885  \n",
       "9        541.291            38759885  \n",
       "4        541.291            39170527  \n",
       "10       541.291            39170527  \n",
       "5        541.291            39170527  \n",
       "11       541.291            39170527  "
      ],
      "text/html": "<div>\n<style scoped>\n    .dataframe tbody tr th:only-of-type {\n        vertical-align: middle;\n    }\n\n    .dataframe tbody tr th {\n        vertical-align: top;\n    }\n\n    .dataframe thead th {\n        text-align: right;\n    }\n</style>\n<table border=\"1\" class=\"dataframe\">\n  <thead>\n    <tr style=\"text-align: right;\">\n      <th></th>\n      <th>sex</th>\n      <th>age</th>\n      <th>year</th>\n      <th>suicides_no</th>\n      <th>population</th>\n      <th>suicides/100k pop</th>\n      <th>HDI for year</th>\n      <th>gdp_per_capita ($)</th>\n    </tr>\n  </thead>\n  <tbody>\n    <tr>\n      <th>0</th>\n      <td>female</td>\n      <td>15-24 years</td>\n      <td>4644960</td>\n      <td>175437</td>\n      <td>4245159089</td>\n      <td>10045.33</td>\n      <td>541.291</td>\n      <td>39170527</td>\n    </tr>\n    <tr>\n      <th>6</th>\n      <td>male</td>\n      <td>15-24 years</td>\n      <td>4644960</td>\n      <td>633105</td>\n      <td>4397787807</td>\n      <td>31487.36</td>\n      <td>541.291</td>\n      <td>39170527</td>\n    </tr>\n    <tr>\n      <th>1</th>\n      <td>female</td>\n      <td>25-34 years</td>\n      <td>4644960</td>\n      <td>208823</td>\n      <td>4190523226</td>\n      <td>10614.42</td>\n      <td>541.291</td>\n      <td>39170527</td>\n    </tr>\n    <tr>\n      <th>7</th>\n      <td>male</td>\n      <td>25-34 years</td>\n      <td>4644960</td>\n      <td>915089</td>\n      <td>4247580361</td>\n      <td>45957.10</td>\n      <td>541.291</td>\n      <td>39170527</td>\n    </tr>\n    <tr>\n      <th>2</th>\n      <td>female</td>\n      <td>35-54 years</td>\n      <td>4644960</td>\n      <td>506233</td>\n      <td>7266872023</td>\n      <td>13732.15</td>\n      <td>541.291</td>\n      <td>39170527</td>\n    </tr>\n    <tr>\n      <th>8</th>\n      <td>male</td>\n      <td>35-54 years</td>\n      <td>4644960</td>\n      <td>1945908</td>\n      <td>7109016100</td>\n      <td>55653.87</td>\n      <td>541.291</td>\n      <td>39170527</td>\n    </tr>\n    <tr>\n      <th>3</th>\n      <td>female</td>\n      <td>5-14 years</td>\n      <td>4612704</td>\n      <td>16997</td>\n      <td>4107939076</td>\n      <td>1065.49</td>\n      <td>541.291</td>\n      <td>38759885</td>\n    </tr>\n    <tr>\n      <th>9</th>\n      <td>male</td>\n      <td>5-14 years</td>\n      <td>4612704</td>\n      <td>35267</td>\n      <td>4290754161</td>\n      <td>1792.90</td>\n      <td>541.291</td>\n      <td>38759885</td>\n    </tr>\n    <tr>\n      <th>4</th>\n      <td>female</td>\n      <td>55-74 years</td>\n      <td>4644960</td>\n      <td>430036</td>\n      <td>4756740046</td>\n      <td>16533.52</td>\n      <td>541.291</td>\n      <td>39170527</td>\n    </tr>\n    <tr>\n      <th>10</th>\n      <td>male</td>\n      <td>55-74 years</td>\n      <td>4644960</td>\n      <td>1228407</td>\n      <td>4046505294</td>\n      <td>58460.68</td>\n      <td>541.291</td>\n      <td>39170527</td>\n    </tr>\n    <tr>\n      <th>5</th>\n      <td>female</td>\n      <td>75+ years</td>\n      <td>4644960</td>\n      <td>221984</td>\n      <td>1705548397</td>\n      <td>23023.86</td>\n      <td>541.291</td>\n      <td>39170527</td>\n    </tr>\n    <tr>\n      <th>11</th>\n      <td>male</td>\n      <td>75+ years</td>\n      <td>4644960</td>\n      <td>431134</td>\n      <td>957732856</td>\n      <td>88177.15</td>\n      <td>541.291</td>\n      <td>39170527</td>\n    </tr>\n  </tbody>\n</table>\n</div>"
     },
     "metadata": {},
     "execution_count": 110
    }
   ],
   "source": [
    "code_df = pd.read_csv('https://raw.githubusercontent.com/plotly/datasets/master/2014_world_gdp_with_codes.csv')\n",
    "df_country_code = df_country.merge(code_df, left_on='Country', right_on='COUNTRY', how='left')\n",
    "df_year = df.groupby('year').sum()\n",
    "df_chocolate = df.groupby(['sex', 'age'], as_index=False).sum()"
   ]
  },
  {
   "cell_type": "code",
   "execution_count": 111,
   "metadata": {},
   "outputs": [],
   "source": [
    " # Build App\n",
    "YEARS = [x for x in range(1987, 2015)]\n",
    "app = JupyterDash(__name__, external_stylesheets=[dbc.themes.BOOTSTRAP])\n",
    "app.layout = html.Div(\n",
    "    id=\"root\",\n",
    "    children=[\n",
    "        html.Div(\n",
    "            id=\"header\",\n",
    "            className='jumbotron',\n",
    "            children=[\n",
    "                html.H1(children=\"Data Visualization Dashboard\")\n",
    "            ]),\n",
    "        dbc.Container(fluid=True,\n",
    "        children=[#Container\n",
    "            dbc.Row([#Row\n",
    "                dbc.Col([#Col1\n",
    "                        dcc.Slider(\n",
    "                            id='year-slider',\n",
    "                            min=min(YEARS),\n",
    "                            max=max(YEARS),\n",
    "                            value=min(YEARS),\n",
    "                        ),\n",
    "                        dcc.Graph(id='world-choropleth'),\n",
    "                        dcc.Graph(id='everest-graph'),\n",
    "                        dcc.Graph(id='chocolatebar-graph'),\n",
    "                    ],\n",
    "                    md=8),#Col1\n",
    "                dbc.Col([#Col2\n",
    "                        dcc.Dropdown(\n",
    "                            id='select-dropdown',\n",
    "                            options=[\n",
    "                                {'label': 'New York City', 'value': 'NYC'},\n",
    "                                {'label': 'Montreal', 'value': 'MTL'},\n",
    "                                {'label': 'San Francisco', 'value': 'SF'},\n",
    "                                {'label': 'Bangkok', 'value': 'BKK'}\n",
    "                                ],\n",
    "                            value='NYC'\n",
    "                            ),\n",
    "                    html.Div(id='dd-output-container',\n",
    "                    className='font-weight-bold'),\n",
    "                ])#Col2\n",
    "        ])#Row\n",
    "    ])#Container\n",
    "])#Div1"
   ]
  },
  {
   "cell_type": "code",
   "execution_count": 112,
   "metadata": {},
   "outputs": [],
   "source": [
    "# Define callback to update graph\n",
    "@app.callback(\n",
    "    Output(component_id='world-choropleth', component_property='figure'),\n",
    "    Output(component_id='everest-graph', component_property='figure'),\n",
    "    Output(component_id='chocolatebar-graph', component_property='figure'),\n",
    "    Output(component_id='dd-output-container', component_property='children'),\n",
    "    Input(component_id='year-slider', component_property='value'),\n",
    "    Input(component_id='select-dropdown', component_property='value')\n",
    ")\n",
    "def update_figure(year, pltselect):\n",
    "    df_choropleth = df_country_code.query('year=='+str(year))\n",
    "    world_suicide = go.Figure(data=go.Choropleth(\n",
    "    locations = df_choropleth['CODE'],\n",
    "    z = df_choropleth['suicides_no'],\n",
    "    text = df_choropleth['Country'],\n",
    "    colorscale = 'Oryel',\n",
    "    autocolorscale=False,\n",
    "    reversescale=False,\n",
    "    marker_line_color='darkgray',\n",
    "    marker_line_width=0.2,\n",
    "    colorbar_title = 'Suicide Cases',\n",
    "    ))\n",
    "\n",
    "    world_suicide.update_layout(\n",
    "    autosize=True,\n",
    "    title_text='Global Suicide Cases in ' + str(year),\n",
    "    geo=dict(\n",
    "        showframe=False,\n",
    "        showcoastlines=False,\n",
    "        projection_type='equirectangular'\n",
    "        )\n",
    "    )\n",
    "    everest_graph = px.line(df_year, x=df_year.index, y=\"suicides_no\")\n",
    "\n",
    "    chocolatebar_graph = px.bar(df_chocolate, x='sex', y=\"suicides_no\", color='age',                              barmode='group')\n",
    "\n",
    "    dd_output = 'You have selected' + str(' '+pltselect)\n",
    "    return world_suicide, everest_graph, chocolatebar_graph, dd_output"
   ]
  },
  {
   "cell_type": "code",
   "execution_count": 113,
   "metadata": {},
   "outputs": [
    {
     "output_type": "stream",
     "name": "stdout",
     "text": [
      "Dash app running on http://127.0.0.1:8050/\n"
     ]
    }
   ],
   "source": [
    "# Run app and display result inline in the notebook\n",
    "app.run_server(mode='external')"
   ]
  }
 ]
}